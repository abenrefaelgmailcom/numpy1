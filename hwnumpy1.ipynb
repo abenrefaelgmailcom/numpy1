{
 "cells": [
  {
   "cell_type": "code",
   "execution_count": 1,
   "id": "f2d8c8b3-80d3-4662-8c39-9b479a1aeda3",
   "metadata": {},
   "outputs": [],
   "source": [
    "import numpy as np"
   ]
  },
  {
   "cell_type": "code",
   "execution_count": 3,
   "id": "ecc11823-4436-4625-8938-1a4cdef24aa1",
   "metadata": {},
   "outputs": [],
   "source": [
    "# ! ==> Terminal"
   ]
  },
  {
   "cell_type": "code",
   "execution_count": 5,
   "id": "3ffd5555-8f61-4ac1-94ee-6597cbf98043",
   "metadata": {},
   "outputs": [
    {
     "name": "stdout",
     "output_type": "stream",
     "text": [
      "Requirement already satisfied: numpy in c:\\users\\abenr\\anaconda3\\lib\\site-packages (1.26.4)\n"
     ]
    }
   ],
   "source": [
    "!pip install numpy"
   ]
  },
  {
   "cell_type": "markdown",
   "id": "65dd29f7-e453-4754-b51d-c00596be2f62",
   "metadata": {},
   "source": [
    "## Use the range command, create and print an array with the numbers: A 0-10"
   ]
  },
  {
   "cell_type": "code",
   "execution_count": null,
   "id": "fb96da27-518a-4010-afb3-ac11c1f367be",
   "metadata": {},
   "outputs": [],
   "source": [
    "np.arange(0, 10 + 1)"
   ]
  },
  {
   "cell_type": "markdown",
   "id": "22a7f823-0b3b-4c70-a55a-7e7cc6bd9ccd",
   "metadata": {},
   "source": [
    "## B From 0.5 to 5 in skips of 0.25"
   ]
  },
  {
   "cell_type": "code",
   "execution_count": 81,
   "id": "b7e6ff16-3d51-4a50-94e9-e810841878b5",
   "metadata": {},
   "outputs": [
    {
     "data": {
      "text/plain": [
       "array([0.5 , 0.75, 1.  , 1.25, 1.5 , 1.75, 2.  , 2.25, 2.5 , 2.75, 3.  ,\n",
       "       3.25, 3.5 , 3.75, 4.  , 4.25, 4.5 , 4.75, 5.  ])"
      ]
     },
     "execution_count": 81,
     "metadata": {},
     "output_type": "execute_result"
    }
   ],
   "source": [
    "np.arange(0.5, 5+0.25, 0.25)"
   ]
  },
  {
   "cell_type": "markdown",
   "id": "f12f6096-e82a-427e-a65f-04ea3ae7c75f",
   "metadata": {},
   "source": [
    "## Use the zeros command, create and print an array of zeros in the following size:"
   ]
  },
  {
   "cell_type": "markdown",
   "id": "21a6bfca-cd7c-412f-8da7-6a5cdf824af0",
   "metadata": {},
   "source": [
    "## A: An array of 10 members in row 1"
   ]
  },
  {
   "cell_type": "code",
   "execution_count": 53,
   "id": "edc30717-4016-474b-adee-0a588de845b3",
   "metadata": {},
   "outputs": [
    {
     "name": "stdout",
     "output_type": "stream",
     "text": [
      "[0 0 0 0 0 0 0 0 0 0]\n"
     ]
    }
   ],
   "source": [
    "print(np.zeros(10, dtype=int))"
   ]
  },
  {
   "cell_type": "markdown",
   "id": "c6817ea3-75f7-4185-be29-046a10eb41f3",
   "metadata": {},
   "source": [
    "## B:An array of 12 members in size 4 x 3"
   ]
  },
  {
   "cell_type": "code",
   "execution_count": 51,
   "id": "562fc831-9d5e-4287-ba9d-c2d313e3f8ef",
   "metadata": {},
   "outputs": [
    {
     "name": "stdout",
     "output_type": "stream",
     "text": [
      "[[0. 0. 0. 0.]\n",
      " [0. 0. 0. 0.]\n",
      " [0. 0. 0. 0.]]\n"
     ]
    }
   ],
   "source": [
    "print(np.zeros((3, 4), dtype=float))"
   ]
  },
  {
   "cell_type": "markdown",
   "id": "fa63e763-a4a1-40bb-9f4b-ca77485aa33f",
   "metadata": {},
   "source": [
    "## 3 Use the Linspace command, create and print an array of numbers:"
   ]
  },
  {
   "cell_type": "markdown",
   "id": "ecb0760e-7c24-42e7-ac6a-07db51f9c002",
   "metadata": {},
   "source": [
    "## a 5 organs size from 2 to 12"
   ]
  },
  {
   "cell_type": "code",
   "execution_count": 55,
   "id": "0b2643ff-e21a-4bb5-b0ee-3f6d576c601a",
   "metadata": {},
   "outputs": [
    {
     "name": "stdout",
     "output_type": "stream",
     "text": [
      "[ 2  4  7  9 12]\n"
     ]
    }
   ],
   "source": [
    "print(np.linspace(2, 12, 5, dtype=int))"
   ]
  },
  {
   "cell_type": "markdown",
   "id": "20907beb-2fbe-4b6a-8c2f-d543f950c0d8",
   "metadata": {},
   "source": [
    "## b Size 4 organs from 3 to 9"
   ]
  },
  {
   "cell_type": "code",
   "execution_count": 57,
   "id": "8cf6dc5e-27ef-4d66-9eb5-6c9b3450164c",
   "metadata": {},
   "outputs": [
    {
     "name": "stdout",
     "output_type": "stream",
     "text": [
      "[3 5 7 9]\n"
     ]
    }
   ],
   "source": [
    "print(np.linspace(3, 9, 4, dtype=int))"
   ]
  },
  {
   "cell_type": "markdown",
   "id": "668b53ed-fb7e-433b-91c8-797d8eb839a7",
   "metadata": {},
   "source": [
    "## 4. Use the random np command, create and print an array of random numbers:"
   ]
  },
  {
   "cell_type": "markdown",
   "id": "7246f24c-cada-432a-9052-a7b1ba7dd068",
   "metadata": {},
   "source": [
    "## a. 2 x 4 in size where each random number is between 0 and 0.999"
   ]
  },
  {
   "cell_type": "code",
   "execution_count": 97,
   "id": "fa22c2ef-30db-4b65-a2d3-6ec413cedbe8",
   "metadata": {},
   "outputs": [
    {
     "name": "stdout",
     "output_type": "stream",
     "text": [
      "[[0.98914892 0.08706298 0.31762007 0.74947255]\n",
      " [0.26359153 0.44594592 0.08807126 0.08638397]]\n"
     ]
    }
   ],
   "source": [
    "randy = np.random.rand(2, 4)\n",
    "print(randy)"
   ]
  },
  {
   "cell_type": "markdown",
   "id": "e049f2af-f388-4ad0-ba5e-8533ff57e248",
   "metadata": {},
   "source": [
    "## b. 3 x 3 in size where each random number is integers between 10 and 20"
   ]
  },
  {
   "cell_type": "code",
   "execution_count": 87,
   "id": "0e50df3d-08df-48cd-9f30-06704236f408",
   "metadata": {},
   "outputs": [
    {
     "name": "stdout",
     "output_type": "stream",
     "text": [
      "[[13 19 15]\n",
      " [11 12 12]\n",
      " [13 15 14]]\n"
     ]
    }
   ],
   "source": [
    "randy = np.random.randint(10, 21, (3, 3))\n",
    "print(randy)"
   ]
  },
  {
   "cell_type": "markdown",
   "id": "29b29bd5-606e-475c-b585-f90164042f66",
   "metadata": {},
   "source": [
    "## reshape to (8, 1)"
   ]
  },
  {
   "cell_type": "code",
   "execution_count": 101,
   "id": "3a33af81-bd96-47d1-a952-934d5d935ec4",
   "metadata": {},
   "outputs": [
    {
     "name": "stdout",
     "output_type": "stream",
     "text": [
      "[[0.98914892]\n",
      " [0.08706298]\n",
      " [0.31762007]\n",
      " [0.74947255]\n",
      " [0.26359153]\n",
      " [0.44594592]\n",
      " [0.08807126]\n",
      " [0.08638397]]\n"
     ]
    }
   ],
   "source": [
    "reshaped= randy.reshape(8, 1)\n",
    "print(reshaped)"
   ]
  },
  {
   "cell_type": "markdown",
   "id": "24adab56-63b9-40db-ba77-b5051e7e0ab9",
   "metadata": {},
   "source": [
    "## A.What will happen if we draw random numbers using a fixed seed?"
   ]
  },
  {
   "cell_type": "markdown",
   "id": "c51b5349-36eb-4eaa-b16e-cc73c0ee1f2d",
   "metadata": {},
   "source": [
    "##**That the results will be repeated with each run"
   ]
  },
  {
   "cell_type": "code",
   "execution_count": 103,
   "id": "b558ff84-0566-43c9-b315-ac76ccf7770f",
   "metadata": {},
   "outputs": [
    {
     "data": {
      "text/plain": [
       "array([[51, 92, 14, 71, 60],\n",
       "       [20, 82, 86, 74, 74]])"
      ]
     },
     "execution_count": 103,
     "metadata": {},
     "output_type": "execute_result"
    }
   ],
   "source": [
    "np.random.seed(42)\n",
    "np.random.randint(0, 101, (2,5))"
   ]
  },
  {
   "cell_type": "markdown",
   "id": "993015f0-c026-4cfd-a019-54800f39996b",
   "metadata": {},
   "source": [
    "## B.The advantage of using a seed?"
   ]
  },
  {
   "cell_type": "markdown",
   "id": "eef67651-76ef-4e0a-aa43-9274374f24ac",
   "metadata": {},
   "source": [
    "## 1. Reproduction of identical random results – allows repetition in code runs (e.g., in neural network training)."
   ]
  },
  {
   "cell_type": "markdown",
   "id": "c873f527-10b2-45d7-b59b-ea25500e7818",
   "metadata": {},
   "source": [
    "## 2.Comparison of results – used to check whether changes in the code affect the result or not."
   ]
  },
  {
   "cell_type": "markdown",
   "id": "5ad45a88-321c-4832-b412-e7a0d50889af",
   "metadata": {},
   "source": [
    "## 3.Stability in simulations and statistical models."
   ]
  }
 ],
 "metadata": {
  "kernelspec": {
   "display_name": "Python [conda env:base] *",
   "language": "python",
   "name": "conda-base-py"
  },
  "language_info": {
   "codemirror_mode": {
    "name": "ipython",
    "version": 3
   },
   "file_extension": ".py",
   "mimetype": "text/x-python",
   "name": "python",
   "nbconvert_exporter": "python",
   "pygments_lexer": "ipython3",
   "version": "3.12.7"
  }
 },
 "nbformat": 4,
 "nbformat_minor": 5
}
